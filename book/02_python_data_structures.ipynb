{
 "cells": [
  {
   "cell_type": "markdown",
   "id": "0",
   "metadata": {},
   "source": [
    "# Data Structures\n",
    "\n",
    "[![Open In Colab](https://colab.research.google.com/assets/colab-badge.svg)](https://colab.research.google.com/github/atsuyaourt/gis-python-tutorial/blob/main/book/02_python_data_structures.ipynb)"
   ]
  },
  {
   "cell_type": "markdown",
   "id": "1",
   "metadata": {},
   "source": [
    "## Tuples\n",
    "\n",
    "Tuples are immutable sequences, meaning that once a tuple is created, its elements cannot be changed. Tuples are useful for storing fixed collections of items.\n",
    "\n",
    "For example, a tuple can be used to store the coordinates of a geographic point (latitude, longitude)."
   ]
  },
  {
   "cell_type": "code",
   "execution_count": 1,
   "id": "2",
   "metadata": {},
   "outputs": [],
   "source": [
    "point = (\n",
    "    14.6091,\n",
    "    121.0223,\n",
    ")  # Tuple representing a geographic point (latitude, longitude)"
   ]
  },
  {
   "cell_type": "markdown",
   "id": "3",
   "metadata": {},
   "source": [
    "You can access elements in a tuple using indexing:"
   ]
  },
  {
   "cell_type": "code",
   "execution_count": 2,
   "id": "4",
   "metadata": {},
   "outputs": [
    {
     "name": "stdout",
     "output_type": "stream",
     "text": [
      "Latitude: 14.6091, Longitude: 121.0223\n"
     ]
    }
   ],
   "source": [
    "latitude = point[0]\n",
    "longitude = point[1]\n",
    "print(f\"Latitude: {latitude}, Longitude: {longitude}\")"
   ]
  },
  {
   "cell_type": "markdown",
   "id": "5",
   "metadata": {},
   "source": [
    "## Lists\n",
    "\n",
    "Lists are ordered, mutable sequences, meaning you can change, add, or remove elements after the list has been created. Lists are very flexible and can store multiple types of data, making them useful for various geospatial tasks.\n",
    "\n",
    "For example, you can store a list of coordinates representing a path or boundary."
   ]
  },
  {
   "cell_type": "code",
   "execution_count": 13,
   "id": "6",
   "metadata": {},
   "outputs": [],
   "source": [
    "ketsana = [\n",
    "    ('2009-09-25 18:00', 14.9, 125.0, 35),\n",
    "    ('2009-09-26 00:00', 15.5, 123.5, 35),\n",
    "    ('2009-09-26 06:00', 15.4, 121.8, 35),\n",
    "    ('2009-09-26 12:00', 15.5, 119.7, 35),\n",
    "]  # List of tuples representing a path"
   ]
  },
  {
   "cell_type": "markdown",
   "id": "7",
   "metadata": {},
   "source": [
    "You can add a new point to the path:"
   ]
  },
  {
   "cell_type": "code",
   "execution_count": 15,
   "id": "8",
   "metadata": {},
   "outputs": [
    {
     "name": "stdout",
     "output_type": "stream",
     "text": [
      "Updated path: [('2009-09-25 18:00', 14.9, 125.0, 35), ('2009-09-26 00:00', 15.5, 123.5, 35), ('2009-09-26 06:00', 15.4, 121.8, 35), ('2009-09-26 12:00', 15.5, 119.7, 35), ('2009-09-26 18:00', 15.7, 118.1, 40), ('2009-09-26 18:00', 15.7, 118.1, 40)]\n"
     ]
    }
   ],
   "source": [
    "ketsana.append(('2009-09-26 18:00', 15.7, 118.1, 40))  # Adding new element\n",
    "print(\"Updated path:\", ketsana)"
   ]
  },
  {
   "cell_type": "markdown",
   "id": "9",
   "metadata": {},
   "source": [
    "Lists allow you to perform various operations such as slicing, which lets you access a subset of the list:"
   ]
  },
  {
   "cell_type": "code",
   "execution_count": 16,
   "id": "10",
   "metadata": {},
   "outputs": [
    {
     "name": "stdout",
     "output_type": "stream",
     "text": [
      "Sub-path: [('2009-09-25 18:00', 14.9, 125.0, 35), ('2009-09-26 00:00', 15.5, 123.5, 35)]\n"
     ]
    }
   ],
   "source": [
    "sub_path = ketsana[:2]  # Slicing the first two points from the path\n",
    "print(\"Sub-path:\", sub_path)"
   ]
  },
  {
   "cell_type": "markdown",
   "id": "11",
   "metadata": {},
   "source": [
    "## Sets\n",
    "\n",
    "Sets are unordered collections of unique elements. Sets are useful when you need to store a collection of items but want to eliminate duplicates.\n",
    "\n",
    "For example, you might want to store a set of unique cities visited during a survey."
   ]
  },
  {
   "cell_type": "code",
   "execution_count": 7,
   "id": "12",
   "metadata": {},
   "outputs": [],
   "source": [
    "cities = [\"Manila\", \"Davao\", \"Iloilo\"]  \n",
    "cities = set(cities) # Set of cities"
   ]
  },
  {
   "cell_type": "markdown",
   "id": "13",
   "metadata": {},
   "source": [
    "You can add a new city to the set:"
   ]
  },
  {
   "cell_type": "code",
   "execution_count": 8,
   "id": "14",
   "metadata": {},
   "outputs": [
    {
     "name": "stdout",
     "output_type": "stream",
     "text": [
      "Updated regions: {'Zamboanga', 'Iloilo', 'Manila', 'Davao'}\n"
     ]
    }
   ],
   "source": [
    "cities.add(\"Zamboanga\")\n",
    "print(\"Updated regions:\", cities)"
   ]
  },
  {
   "cell_type": "markdown",
   "id": "15",
   "metadata": {},
   "source": [
    "Since sets do not allow duplicates, adding an existing city will not change the set:"
   ]
  },
  {
   "cell_type": "code",
   "execution_count": 9,
   "id": "16",
   "metadata": {},
   "outputs": [
    {
     "name": "stdout",
     "output_type": "stream",
     "text": [
      "Regions after attempting to add duplicate: {'Zamboanga', 'Iloilo', 'Manila', 'Davao'}\n"
     ]
    }
   ],
   "source": [
    "cities.add(\"Iloilo\")  # Attempting to add a duplicate element\n",
    "print(\"Regions after attempting to add duplicate:\", cities)"
   ]
  },
  {
   "cell_type": "markdown",
   "id": "17",
   "metadata": {},
   "source": [
    "## Dictionaries\n",
    "\n",
    "Dictionaries are collections of key-value pairs, where each key is unique. Dictionaries are extremely useful for storing data that is associated with specific identifiers, such as attribute data for geographic features.\n",
    "\n",
    "For example, you can use a dictionary to store attributes of a geospatial feature, such as a city."
   ]
  },
  {
   "cell_type": "code",
   "execution_count": 10,
   "id": "18",
   "metadata": {},
   "outputs": [],
   "source": [
    "city_attributes = {\n",
    "    \"name\": \"Manila\",\n",
    "    \"population\": 1_846,\n",
    "    \"coordinates\": (14.5995, 120.9842),\n",
    "}  # Dictionary storing attributes of a city"
   ]
  },
  {
   "cell_type": "markdown",
   "id": "19",
   "metadata": {},
   "source": [
    "You can access the values associated with specific keys:"
   ]
  },
  {
   "cell_type": "code",
   "execution_count": 11,
   "id": "20",
   "metadata": {},
   "outputs": [
    {
     "name": "stdout",
     "output_type": "stream",
     "text": [
      "City: Manila, Population: 1846\n"
     ]
    }
   ],
   "source": [
    "city_name = city_attributes[\"name\"]\n",
    "city_population = city_attributes[\"population\"]\n",
    "print(f\"City: {city_name}, Population: {city_population}\")"
   ]
  },
  {
   "cell_type": "markdown",
   "id": "21",
   "metadata": {},
   "source": [
    "You can also add or update key-value pairs in a dictionary:"
   ]
  },
  {
   "cell_type": "code",
   "execution_count": 12,
   "id": "22",
   "metadata": {},
   "outputs": [
    {
     "name": "stdout",
     "output_type": "stream",
     "text": [
      "Updated city attributes: {'name': 'Manila', 'population': 1846, 'coordinates': (14.5995, 120.9842), 'area_km2': 38.55}\n"
     ]
    }
   ],
   "source": [
    "city_attributes[\"area_km2\"] = 38.55  # Adding the area of the city in square kilometers\n",
    "print(\"Updated city attributes:\", city_attributes)"
   ]
  },
  {
   "cell_type": "markdown",
   "id": "23",
   "metadata": {},
   "source": [
    "## Exercises\n",
    "\n",
    "Create a dictionary to store attributes of a geographic feature (e.g., a river or mountain). Include keys for the name, length, and location of the feature. Then, add an additional attribute (e.g., the source of the river or the height of the mountain) and print the dictionary."
   ]
  }
 ],
 "metadata": {
  "kernelspec": {
   "display_name": "Python 3 (ipykernel)",
   "language": "python",
   "name": "python3"
  },
  "language_info": {
   "codemirror_mode": {
    "name": "ipython",
    "version": 3
   },
   "file_extension": ".py",
   "mimetype": "text/x-python",
   "name": "python",
   "nbconvert_exporter": "python",
   "pygments_lexer": "ipython3",
   "version": "3.11.10"
  }
 },
 "nbformat": 4,
 "nbformat_minor": 5
}
