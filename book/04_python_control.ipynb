{
 "cells": [
  {
   "cell_type": "markdown",
   "id": "0",
   "metadata": {},
   "source": [
    "# Control flow\n",
    "\n",
    "[![Open In Colab](https://colab.research.google.com/assets/colab-badge.svg)](https://colab.research.google.com/github/atsuyaourt/gis-python-tutorial/blob/main/book/04_python_control.ipynb)"
   ]
  },
  {
   "cell_type": "markdown",
   "id": "d051356b-50f9-4a63-b163-081d221d9b45",
   "metadata": {},
   "source": [
    "## `if` Statements\n",
    "\n",
    "`if` statements allow you to execute different blocks of code based on certain conditions. In geospatial programming, this is useful for handling different types of data or conditions."
   ]
  },
  {
   "cell_type": "code",
   "execution_count": 2,
   "id": "d6607ccf-b00b-4bcc-b725-2e450df0eb12",
   "metadata": {},
   "outputs": [
    {
     "name": "stdout",
     "output_type": "stream",
     "text": [
      "5.0 is in the Northern Hemisphere\n"
     ]
    }
   ],
   "source": [
    "lat = 5.0\n",
    "if lat > 0:\n",
    "    print(f\"{lat} is in the Northern Hemisphere\")\n",
    "elif lat < 0:\n",
    "    print(f\"{lat} is in the Southern Hemisphere\")\n",
    "else:\n",
    "    print(f\"{lat} is near the equator\")"
   ]
  },
  {
   "cell_type": "markdown",
   "id": "9ff72a26-e191-42a8-b5b2-d3f50bef9d51",
   "metadata": {},
   "source": [
    "There can be zero or more `elif` parts, and the else part is optional. The keyword `elif` is short for 'else if', and is useful to avoid excessive indentation."
   ]
  },
  {
   "cell_type": "markdown",
   "id": "6fccec5e-57e6-47c4-ac20-eb84f6ad6d61",
   "metadata": {},
   "source": [
    "## `for` Loops\n",
    "\n",
    "`for` loops allow you to iterate over a sequence (such as a list, tuple, or string) and execute a block of code for each item in the sequence. This is particularly useful in geospatial programming when you need to process multiple features or coordinates."
   ]
  },
  {
   "cell_type": "code",
   "execution_count": 2,
   "id": "1",
   "metadata": {},
   "outputs": [
    {
     "name": "stdout",
     "output_type": "stream",
     "text": [
      "Latitude: 14.9, Longitude: 125.0\n",
      "Latitude: 15.5, Longitude: 123.5\n",
      "Latitude: 15.4, Longitude: 121.8\n",
      "Latitude: 15.5, Longitude: 119.7\n"
     ]
    }
   ],
   "source": [
    "coordinates = [\n",
    "    (14.9, 125.0),\n",
    "    (15.5, 123.5),\n",
    "    (15.4, 121.8),\n",
    "    (15.5, 119.7),\n",
    "]  # List of tuples representing coordinates\n",
    "\n",
    "for lat, lon in coordinates:\n",
    "    print(f\"Latitude: {lat}, Longitude: {lon}\")"
   ]
  },
  {
   "cell_type": "markdown",
   "id": "2",
   "metadata": {},
   "source": [
    "Assuming you have a function to calculate distances, you can use a loop to compute distances from a reference point."
   ]
  },
  {
   "cell_type": "code",
   "execution_count": 3,
   "id": "3",
   "metadata": {},
   "outputs": [
    {
     "name": "stdout",
     "output_type": "stream",
     "text": [
      "Distance from (0, 0) to (14.9, 125.0): 125.88\n",
      "Distance from (0, 0) to (15.5, 123.5): 124.47\n",
      "Distance from (0, 0) to (15.4, 121.8): 122.77\n",
      "Distance from (0, 0) to (15.5, 119.7): 120.70\n"
     ]
    }
   ],
   "source": [
    "def calculate_distance(lat1, lon1, lat2, lon2):\n",
    "    # Placeholder for distance calculation logic\n",
    "    return ((lat2 - lat1) ** 2 + (lon2 - lon1) ** 2) ** 0.5\n",
    "\n",
    "\n",
    "reference_point = (0, 0)  # Reference point (latitude, longitude)\n",
    "\n",
    "for lat, lon in coordinates:\n",
    "    distance = calculate_distance(reference_point[0], reference_point[1], lat, lon)\n",
    "    print(f\"Distance from {reference_point} to ({lat}, {lon}): {distance:.2f}\")"
   ]
  },
  {
   "cell_type": "markdown",
   "id": "4",
   "metadata": {},
   "source": [
    "## `while` Loops\n",
    "\n",
    "`while` loops continue to execute a block of code as long as a specified condition is true. They are useful when the number of iterations is not known beforehand, such as when processing data until a certain condition is met."
   ]
  },
  {
   "cell_type": "code",
   "execution_count": 4,
   "id": "5",
   "metadata": {},
   "outputs": [
    {
     "name": "stdout",
     "output_type": "stream",
     "text": [
      "Processing coordinate: (14.9, 125.0)\n",
      "Processing coordinate: (15.5, 123.5)\n",
      "Processing coordinate: (15.4, 121.8)\n",
      "Processing coordinate: (15.5, 119.7)\n"
     ]
    }
   ],
   "source": [
    "counter = 0\n",
    "while counter < len(coordinates):\n",
    "    lat, lon = coordinates[counter]\n",
    "    print(f\"Processing coordinate: ({lat}, {lon})\")\n",
    "    counter += 1"
   ]
  },
  {
   "cell_type": "markdown",
   "id": "13",
   "metadata": {},
   "source": [
    "## Exercises\n",
    "\n",
    "1. Create a list of cities with their coordinates. Write a for loop to print out only the cities that are in the Northern Hemisphere.\n",
    "2. Write a while loop that continues to print the coordinates in a list until a coordinate with a latitude less than 0 is found.\n",
    "3. Create a for loop that iterates through a list of coordinates and prints whether each coordinate is in the Eastern or Western Hemisphere based on the longitude.\n",
    "4. Combine a for loop and if statements to count how many coordinates in a list are located in the Southern Hemisphere.\n",
    "5. Write a program that generates random coordinates (latitude and longitude) and prints them until a coordinate with both latitude and longitude greater than 50 is generated."
   ]
  }
 ],
 "metadata": {
  "kernelspec": {
   "display_name": "Python 3 (ipykernel)",
   "language": "python",
   "name": "python3"
  },
  "language_info": {
   "codemirror_mode": {
    "name": "ipython",
    "version": 3
   },
   "file_extension": ".py",
   "mimetype": "text/x-python",
   "name": "python",
   "nbconvert_exporter": "python",
   "pygments_lexer": "ipython3",
   "version": "3.11.10"
  }
 },
 "nbformat": 4,
 "nbformat_minor": 5
}
