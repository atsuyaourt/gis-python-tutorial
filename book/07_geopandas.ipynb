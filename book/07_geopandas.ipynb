{
 "cells": [
  {
   "cell_type": "markdown",
   "id": "0",
   "metadata": {},
   "source": [
    "# GeoPandas\n",
    "\n",
    "[![Open In Colab](https://colab.research.google.com/assets/colab-badge.svg)](https://colab.research.google.com/github/atsuyaourt/gis-python-tutorial/blob/main/book/07_geopandas.ipynb)\n",
    "\n",
    "## Overview\n",
    "\n",
    "[GeoPandas](https://geopandas.org) is an open-source Python library that simplifies working with geospatial data by extending Pandas data structures. It seamlessly integrates geospatial operations with a pandas-like interface, allowing for the manipulation of geometric types such as points, lines, and polygons. GeoPandas combines the functionalities of Pandas and Shapely, enabling geospatial operations like spatial joins, buffering, intersections, and projections with ease.\n",
    "\n",
    "## Concepts\n",
    "\n",
    "The core data structures in GeoPandas are `GeoDataFrame` and `GeoSeries`. A `GeoDataFrame` extends the functionality of a Pandas DataFrame by adding a geometry column, allowing spatial data operations on geometric shapes. The `GeoSeries` handles geometric data (points, polygons, etc.).\n",
    "\n",
    "A `GeoDataFrame` can have multiple geometry columns, but only one is considered the active geometry at any time. All spatial operations are applied to this active geometry, accessible via the `.geometry` attribute."
   ]
  },
  {
   "cell_type": "markdown",
   "id": "1",
   "metadata": {},
   "source": [
    "## Installing and Importing GeoPandas\n",
    "\n",
    "Before we begin, make sure you have geopandas installed. You can install it using:"
   ]
  },
  {
   "cell_type": "code",
   "execution_count": null,
   "id": "2",
   "metadata": {},
   "outputs": [],
   "source": [
    "# %pip install geopandas"
   ]
  },
  {
   "cell_type": "markdown",
   "id": "3",
   "metadata": {},
   "source": [
    "Once installed, import GeoPandas and other necessary libraries:"
   ]
  },
  {
   "cell_type": "code",
   "execution_count": 1,
   "id": "4",
   "metadata": {},
   "outputs": [],
   "source": [
    "import pandas as pd\n",
    "import geopandas as gpd\n",
    "import matplotlib.pyplot as plt"
   ]
  },
  {
   "cell_type": "markdown",
   "id": "5",
   "metadata": {},
   "source": [
    "## Creating GeoDataFrames\n",
    "\n",
    "A GeoDataFrame is a tabular data structure that contains a `geometry` column, which holds the geometric shapes. You can create a GeoDataFrame from a list of geometries or from a pandas DataFrame."
   ]
  },
  {
   "cell_type": "code",
   "execution_count": 2,
   "id": "6",
   "metadata": {},
   "outputs": [
    {
     "data": {
      "text/html": [
       "<div>\n",
       "<style scoped>\n",
       "    .dataframe tbody tr th:only-of-type {\n",
       "        vertical-align: middle;\n",
       "    }\n",
       "\n",
       "    .dataframe tbody tr th {\n",
       "        vertical-align: top;\n",
       "    }\n",
       "\n",
       "    .dataframe thead th {\n",
       "        text-align: right;\n",
       "    }\n",
       "</style>\n",
       "<table border=\"1\" class=\"dataframe\">\n",
       "  <thead>\n",
       "    <tr style=\"text-align: right;\">\n",
       "      <th></th>\n",
       "      <th>name</th>\n",
       "      <th>region</th>\n",
       "      <th>lat</th>\n",
       "      <th>lon</th>\n",
       "      <th>population</th>\n",
       "      <th>geometry</th>\n",
       "    </tr>\n",
       "  </thead>\n",
       "  <tbody>\n",
       "    <tr>\n",
       "      <th>0</th>\n",
       "      <td>Manila</td>\n",
       "      <td>NCR</td>\n",
       "      <td>14.5995</td>\n",
       "      <td>120.9842</td>\n",
       "      <td>1846513</td>\n",
       "      <td>POINT (120.9842 14.5995)</td>\n",
       "    </tr>\n",
       "    <tr>\n",
       "      <th>1</th>\n",
       "      <td>Quezon City</td>\n",
       "      <td>NCR</td>\n",
       "      <td>14.6760</td>\n",
       "      <td>121.0437</td>\n",
       "      <td>2960048</td>\n",
       "      <td>POINT (121.0437 14.676)</td>\n",
       "    </tr>\n",
       "    <tr>\n",
       "      <th>2</th>\n",
       "      <td>Cebu</td>\n",
       "      <td>VII</td>\n",
       "      <td>10.3157</td>\n",
       "      <td>123.8854</td>\n",
       "      <td>964169</td>\n",
       "      <td>POINT (123.8854 10.3157)</td>\n",
       "    </tr>\n",
       "    <tr>\n",
       "      <th>3</th>\n",
       "      <td>Davao</td>\n",
       "      <td>XI</td>\n",
       "      <td>7.1907</td>\n",
       "      <td>125.4553</td>\n",
       "      <td>1776949</td>\n",
       "      <td>POINT (125.4553 7.1907)</td>\n",
       "    </tr>\n",
       "  </tbody>\n",
       "</table>\n",
       "</div>"
      ],
      "text/plain": [
       "          name region      lat       lon  population                  geometry\n",
       "0       Manila    NCR  14.5995  120.9842     1846513  POINT (120.9842 14.5995)\n",
       "1  Quezon City    NCR  14.6760  121.0437     2960048   POINT (121.0437 14.676)\n",
       "2         Cebu    VII  10.3157  123.8854      964169  POINT (123.8854 10.3157)\n",
       "3        Davao     XI   7.1907  125.4553     1776949   POINT (125.4553 7.1907)"
      ]
     },
     "execution_count": 2,
     "metadata": {},
     "output_type": "execute_result"
    }
   ],
   "source": [
    "# Creating a GeoDataFrame from scratch\n",
    "data = {\n",
    "    \"name\": [\"Manila\", \"Quezon City\", \"Cebu\", \"Davao\"],\n",
    "    \"region\": [\"NCR\", \"NCR\", \"VII\", \"XI\"],\n",
    "    \"lat\": [14.5995, 14.6760, 10.3157, 7.1907],\n",
    "    \"lon\": [120.9842, 121.0437, 123.8854, 125.4553],\n",
    "    \"population\": [1_846_513, 2_960_048, 964_169, 1_776_949],\n",
    "}\n",
    "\n",
    "df = pd.DataFrame(data)\n",
    "gdf = gpd.GeoDataFrame(df, geometry=gpd.points_from_xy(df.lon, df.lat))\n",
    "gdf"
   ]
  },
  {
   "cell_type": "markdown",
   "id": "7",
   "metadata": {},
   "source": [
    "## Reading and Writing Geospatial Data\n",
    "\n",
    "GeoPandas allows reading and writing a variety of geospatial formats, such as Shapefiles, GeoJSON, and more. We'll use a GeoJSON dataset of NCR boundaries.\n",
    "\n",
    "### Reading a GeoJSON File\n",
    "\n",
    "We'll load the NCR dataset from a GeoJSON file hosted online."
   ]
  },
  {
   "cell_type": "code",
   "execution_count": 2,
   "id": "8",
   "metadata": {},
   "outputs": [
    {
     "data": {
      "text/html": [
       "<div>\n",
       "<style scoped>\n",
       "    .dataframe tbody tr th:only-of-type {\n",
       "        vertical-align: middle;\n",
       "    }\n",
       "\n",
       "    .dataframe tbody tr th {\n",
       "        vertical-align: top;\n",
       "    }\n",
       "\n",
       "    .dataframe thead th {\n",
       "        text-align: right;\n",
       "    }\n",
       "</style>\n",
       "<table border=\"1\" class=\"dataframe\">\n",
       "  <thead>\n",
       "    <tr style=\"text-align: right;\">\n",
       "      <th></th>\n",
       "      <th>adm1_psgc</th>\n",
       "      <th>adm2_psgc</th>\n",
       "      <th>adm2_en</th>\n",
       "      <th>geo_level</th>\n",
       "      <th>len_crs</th>\n",
       "      <th>area_crs</th>\n",
       "      <th>len_km</th>\n",
       "      <th>area_km2</th>\n",
       "      <th>geometry</th>\n",
       "    </tr>\n",
       "  </thead>\n",
       "  <tbody>\n",
       "    <tr>\n",
       "      <th>0</th>\n",
       "      <td>1300000000</td>\n",
       "      <td>1303900000</td>\n",
       "      <td>NCR, City of Manila, First District (Not a Pro...</td>\n",
       "      <td>Dist</td>\n",
       "      <td>65456</td>\n",
       "      <td>41975413</td>\n",
       "      <td>65</td>\n",
       "      <td>41</td>\n",
       "      <td>POLYGON ((283722.929 1619082.846, 280037.46 16...</td>\n",
       "    </tr>\n",
       "    <tr>\n",
       "      <th>1</th>\n",
       "      <td>1300000000</td>\n",
       "      <td>1307400000</td>\n",
       "      <td>NCR, Second District (Not a Province)</td>\n",
       "      <td>Dist</td>\n",
       "      <td>103620</td>\n",
       "      <td>233830886</td>\n",
       "      <td>103</td>\n",
       "      <td>233</td>\n",
       "      <td>POLYGON ((295625.087 1607412.928, 294965.197 1...</td>\n",
       "    </tr>\n",
       "    <tr>\n",
       "      <th>2</th>\n",
       "      <td>1300000000</td>\n",
       "      <td>1307500000</td>\n",
       "      <td>NCR, Third District (Not a Province)</td>\n",
       "      <td>Dist</td>\n",
       "      <td>103619</td>\n",
       "      <td>126134749</td>\n",
       "      <td>103</td>\n",
       "      <td>126</td>\n",
       "      <td>POLYGON ((295452.647 1633223.519, 290698.238 1...</td>\n",
       "    </tr>\n",
       "    <tr>\n",
       "      <th>3</th>\n",
       "      <td>1300000000</td>\n",
       "      <td>1307600000</td>\n",
       "      <td>NCR, Fourth District (Not a Province)</td>\n",
       "      <td>Dist</td>\n",
       "      <td>102146</td>\n",
       "      <td>196785340</td>\n",
       "      <td>102</td>\n",
       "      <td>196</td>\n",
       "      <td>POLYGON ((295625.087 1607412.928, 289955.426 1...</td>\n",
       "    </tr>\n",
       "  </tbody>\n",
       "</table>\n",
       "</div>"
      ],
      "text/plain": [
       "    adm1_psgc   adm2_psgc                                            adm2_en  \\\n",
       "0  1300000000  1303900000  NCR, City of Manila, First District (Not a Pro...   \n",
       "1  1300000000  1307400000              NCR, Second District (Not a Province)   \n",
       "2  1300000000  1307500000               NCR, Third District (Not a Province)   \n",
       "3  1300000000  1307600000              NCR, Fourth District (Not a Province)   \n",
       "\n",
       "  geo_level  len_crs   area_crs  len_km  area_km2  \\\n",
       "0      Dist    65456   41975413      65        41   \n",
       "1      Dist   103620  233830886     103       233   \n",
       "2      Dist   103619  126134749     103       126   \n",
       "3      Dist   102146  196785340     102       196   \n",
       "\n",
       "                                            geometry  \n",
       "0  POLYGON ((283722.929 1619082.846, 280037.46 16...  \n",
       "1  POLYGON ((295625.087 1607412.928, 294965.197 1...  \n",
       "2  POLYGON ((295452.647 1633223.519, 290698.238 1...  \n",
       "3  POLYGON ((295625.087 1607412.928, 289955.426 1...  "
      ]
     },
     "execution_count": 2,
     "metadata": {},
     "output_type": "execute_result"
    }
   ],
   "source": [
    "url = \"https://raw.githubusercontent.com/faeldon/philippines-json-maps/refs/heads/master/2023/geojson/regions/lowres/provdists-region-1300000000.0.001.json\"\n",
    "gdf = gpd.read_file(url)\n",
    "utm_crs = gdf.estimate_utm_crs()  # Automatically suggests the UTM zone\n",
    "gdf = gdf.to_crs(utm_crs)\n",
    "gdf.head()"
   ]
  },
  {
   "cell_type": "markdown",
   "id": "9",
   "metadata": {},
   "source": [
    "This `GeoDataFrame` contains several columns, including `adm2_en`, which represents the names of the districts, and `geometry`, which stores the polygons for each distric.\n",
    "\n",
    "### Writing to a GeoJSON File\n",
    "\n",
    "GeoPandas also supports saving geospatial data back to disk. For example, we can save the GeoDataFrame as a new GeoJSON file:"
   ]
  },
  {
   "cell_type": "code",
   "execution_count": 4,
   "id": "10",
   "metadata": {},
   "outputs": [
    {
     "name": "stdout",
     "output_type": "stream",
     "text": [
      "GeoDataFrame has been written to ncr.geojson\n"
     ]
    }
   ],
   "source": [
    "output_file = \"ncr.geojson\"\n",
    "gdf.to_file(output_file, driver=\"GeoJSON\")\n",
    "print(f\"GeoDataFrame has been written to {output_file}\")"
   ]
  },
  {
   "cell_type": "markdown",
   "id": "11",
   "metadata": {},
   "source": [
    "Similarly, you can write GeoDataFrames to other formats, such as Shapefiles, GeoPackage, and more."
   ]
  },
  {
   "cell_type": "code",
   "execution_count": 5,
   "id": "12",
   "metadata": {},
   "outputs": [],
   "source": [
    "output_file = \"ncr.shp\"\n",
    "gdf.to_file(output_file)"
   ]
  },
  {
   "cell_type": "code",
   "execution_count": 6,
   "id": "13",
   "metadata": {},
   "outputs": [],
   "source": [
    "output_file = \"ncr.gpkg\"\n",
    "gdf.to_file(output_file, driver=\"GPKG\")"
   ]
  },
  {
   "cell_type": "markdown",
   "id": "14",
   "metadata": {},
   "source": [
    "## Simple Accessors and Methods\n",
    "\n",
    "Now that we have the data, let's explore some simple GeoPandas methods to manipulate and analyze the geometric data.\n",
    "\n",
    "### Measuring Area\n",
    "\n",
    "We can calculate the area of each district. GeoPandas automatically calculates the area of each polygon:"
   ]
  },
  {
   "cell_type": "code",
   "execution_count": 3,
   "id": "15",
   "metadata": {},
   "outputs": [
    {
     "data": {
      "text/html": [
       "<div>\n",
       "<style scoped>\n",
       "    .dataframe tbody tr th:only-of-type {\n",
       "        vertical-align: middle;\n",
       "    }\n",
       "\n",
       "    .dataframe tbody tr th {\n",
       "        vertical-align: top;\n",
       "    }\n",
       "\n",
       "    .dataframe thead th {\n",
       "        text-align: right;\n",
       "    }\n",
       "</style>\n",
       "<table border=\"1\" class=\"dataframe\">\n",
       "  <thead>\n",
       "    <tr style=\"text-align: right;\">\n",
       "      <th></th>\n",
       "      <th>adm1_psgc</th>\n",
       "      <th>adm2_en</th>\n",
       "      <th>geo_level</th>\n",
       "      <th>len_crs</th>\n",
       "      <th>area_crs</th>\n",
       "      <th>len_km</th>\n",
       "      <th>area_km2</th>\n",
       "      <th>geometry</th>\n",
       "      <th>area</th>\n",
       "    </tr>\n",
       "    <tr>\n",
       "      <th>adm2_psgc</th>\n",
       "      <th></th>\n",
       "      <th></th>\n",
       "      <th></th>\n",
       "      <th></th>\n",
       "      <th></th>\n",
       "      <th></th>\n",
       "      <th></th>\n",
       "      <th></th>\n",
       "      <th></th>\n",
       "    </tr>\n",
       "  </thead>\n",
       "  <tbody>\n",
       "    <tr>\n",
       "      <th>1303900000</th>\n",
       "      <td>1300000000</td>\n",
       "      <td>NCR, City of Manila, First District (Not a Pro...</td>\n",
       "      <td>Dist</td>\n",
       "      <td>65456</td>\n",
       "      <td>41975413</td>\n",
       "      <td>65</td>\n",
       "      <td>41</td>\n",
       "      <td>POLYGON ((283722.929 1619082.846, 280037.46 16...</td>\n",
       "      <td>4.201781e+07</td>\n",
       "    </tr>\n",
       "    <tr>\n",
       "      <th>1307400000</th>\n",
       "      <td>1300000000</td>\n",
       "      <td>NCR, Second District (Not a Province)</td>\n",
       "      <td>Dist</td>\n",
       "      <td>103620</td>\n",
       "      <td>233830886</td>\n",
       "      <td>103</td>\n",
       "      <td>233</td>\n",
       "      <td>POLYGON ((295625.087 1607412.928, 294965.197 1...</td>\n",
       "      <td>2.233504e+08</td>\n",
       "    </tr>\n",
       "    <tr>\n",
       "      <th>1307500000</th>\n",
       "      <td>1300000000</td>\n",
       "      <td>NCR, Third District (Not a Province)</td>\n",
       "      <td>Dist</td>\n",
       "      <td>103619</td>\n",
       "      <td>126134749</td>\n",
       "      <td>103</td>\n",
       "      <td>126</td>\n",
       "      <td>POLYGON ((295452.647 1633223.519, 290698.238 1...</td>\n",
       "      <td>1.249099e+08</td>\n",
       "    </tr>\n",
       "    <tr>\n",
       "      <th>1307600000</th>\n",
       "      <td>1300000000</td>\n",
       "      <td>NCR, Fourth District (Not a Province)</td>\n",
       "      <td>Dist</td>\n",
       "      <td>102146</td>\n",
       "      <td>196785340</td>\n",
       "      <td>102</td>\n",
       "      <td>196</td>\n",
       "      <td>POLYGON ((295625.087 1607412.928, 289955.426 1...</td>\n",
       "      <td>1.895737e+08</td>\n",
       "    </tr>\n",
       "  </tbody>\n",
       "</table>\n",
       "</div>"
      ],
      "text/plain": [
       "             adm1_psgc                                            adm2_en  \\\n",
       "adm2_psgc                                                                   \n",
       "1303900000  1300000000  NCR, City of Manila, First District (Not a Pro...   \n",
       "1307400000  1300000000              NCR, Second District (Not a Province)   \n",
       "1307500000  1300000000               NCR, Third District (Not a Province)   \n",
       "1307600000  1300000000              NCR, Fourth District (Not a Province)   \n",
       "\n",
       "           geo_level  len_crs   area_crs  len_km  area_km2  \\\n",
       "adm2_psgc                                                    \n",
       "1303900000      Dist    65456   41975413      65        41   \n",
       "1307400000      Dist   103620  233830886     103       233   \n",
       "1307500000      Dist   103619  126134749     103       126   \n",
       "1307600000      Dist   102146  196785340     102       196   \n",
       "\n",
       "                                                     geometry          area  \n",
       "adm2_psgc                                                                    \n",
       "1303900000  POLYGON ((283722.929 1619082.846, 280037.46 16...  4.201781e+07  \n",
       "1307400000  POLYGON ((295625.087 1607412.928, 294965.197 1...  2.233504e+08  \n",
       "1307500000  POLYGON ((295452.647 1633223.519, 290698.238 1...  1.249099e+08  \n",
       "1307600000  POLYGON ((295625.087 1607412.928, 289955.426 1...  1.895737e+08  "
      ]
     },
     "execution_count": 3,
     "metadata": {},
     "output_type": "execute_result"
    }
   ],
   "source": [
    "# Set BoroName as the index for easier reference\n",
    "gdf = gdf.set_index(\"adm2_psgc\")\n",
    "\n",
    "# Calculate the area\n",
    "gdf[\"area\"] = gdf.area\n",
    "gdf"
   ]
  },
  {
   "cell_type": "markdown",
   "id": "16",
   "metadata": {},
   "source": [
    "### Getting Polygon Boundaries and Centroids\n",
    "\n",
    "To get the boundary (lines) and centroid (center point) of each polygon:"
   ]
  },
  {
   "cell_type": "code",
   "execution_count": 4,
   "id": "17",
   "metadata": {},
   "outputs": [
    {
     "data": {
      "text/html": [
       "<div>\n",
       "<style scoped>\n",
       "    .dataframe tbody tr th:only-of-type {\n",
       "        vertical-align: middle;\n",
       "    }\n",
       "\n",
       "    .dataframe tbody tr th {\n",
       "        vertical-align: top;\n",
       "    }\n",
       "\n",
       "    .dataframe thead th {\n",
       "        text-align: right;\n",
       "    }\n",
       "</style>\n",
       "<table border=\"1\" class=\"dataframe\">\n",
       "  <thead>\n",
       "    <tr style=\"text-align: right;\">\n",
       "      <th></th>\n",
       "      <th>boundary</th>\n",
       "      <th>centroid</th>\n",
       "    </tr>\n",
       "    <tr>\n",
       "      <th>adm2_psgc</th>\n",
       "      <th></th>\n",
       "      <th></th>\n",
       "    </tr>\n",
       "  </thead>\n",
       "  <tbody>\n",
       "    <tr>\n",
       "      <th>1303900000</th>\n",
       "      <td>LINESTRING (283722.929 1619082.846, 280037.46 ...</td>\n",
       "      <td>POINT (283150.685 1615096.15)</td>\n",
       "    </tr>\n",
       "    <tr>\n",
       "      <th>1307400000</th>\n",
       "      <td>LINESTRING (295625.087 1607412.928, 294965.197...</td>\n",
       "      <td>POINT (291814.193 1621220.357)</td>\n",
       "    </tr>\n",
       "    <tr>\n",
       "      <th>1307500000</th>\n",
       "      <td>LINESTRING (295452.647 1633223.519, 290698.238...</td>\n",
       "      <td>POINT (284291.567 1627188.261)</td>\n",
       "    </tr>\n",
       "    <tr>\n",
       "      <th>1307600000</th>\n",
       "      <td>LINESTRING (295625.087 1607412.928, 289955.426...</td>\n",
       "      <td>POINT (287184.674 1601809.744)</td>\n",
       "    </tr>\n",
       "  </tbody>\n",
       "</table>\n",
       "</div>"
      ],
      "text/plain": [
       "                                                     boundary  \\\n",
       "adm2_psgc                                                       \n",
       "1303900000  LINESTRING (283722.929 1619082.846, 280037.46 ...   \n",
       "1307400000  LINESTRING (295625.087 1607412.928, 294965.197...   \n",
       "1307500000  LINESTRING (295452.647 1633223.519, 290698.238...   \n",
       "1307600000  LINESTRING (295625.087 1607412.928, 289955.426...   \n",
       "\n",
       "                                  centroid  \n",
       "adm2_psgc                                   \n",
       "1303900000   POINT (283150.685 1615096.15)  \n",
       "1307400000  POINT (291814.193 1621220.357)  \n",
       "1307500000  POINT (284291.567 1627188.261)  \n",
       "1307600000  POINT (287184.674 1601809.744)  "
      ]
     },
     "execution_count": 4,
     "metadata": {},
     "output_type": "execute_result"
    }
   ],
   "source": [
    "# Get the boundary of each polygon\n",
    "gdf[\"boundary\"] = gdf.boundary\n",
    "\n",
    "# Get the centroid of each polygon\n",
    "gdf[\"centroid\"] = gdf.centroid\n",
    "\n",
    "gdf[[\"boundary\", \"centroid\"]]"
   ]
  },
  {
   "cell_type": "markdown",
   "id": "18",
   "metadata": {},
   "source": [
    "### Measuring Distance\n",
    "\n",
    "We can also measure the distance from each district's centroid to a reference point, such as the centroid of the 1st District."
   ]
  },
  {
   "cell_type": "code",
   "execution_count": 5,
   "id": "19",
   "metadata": {},
   "outputs": [
    {
     "data": {
      "text/html": [
       "<div>\n",
       "<style scoped>\n",
       "    .dataframe tbody tr th:only-of-type {\n",
       "        vertical-align: middle;\n",
       "    }\n",
       "\n",
       "    .dataframe tbody tr th {\n",
       "        vertical-align: top;\n",
       "    }\n",
       "\n",
       "    .dataframe thead th {\n",
       "        text-align: right;\n",
       "    }\n",
       "</style>\n",
       "<table border=\"1\" class=\"dataframe\">\n",
       "  <thead>\n",
       "    <tr style=\"text-align: right;\">\n",
       "      <th></th>\n",
       "      <th>centroid</th>\n",
       "      <th>distance_to_1st</th>\n",
       "    </tr>\n",
       "    <tr>\n",
       "      <th>adm2_psgc</th>\n",
       "      <th></th>\n",
       "      <th></th>\n",
       "    </tr>\n",
       "  </thead>\n",
       "  <tbody>\n",
       "    <tr>\n",
       "      <th>1303900000</th>\n",
       "      <td>POINT (283150.685 1615096.15)</td>\n",
       "      <td>0.000000</td>\n",
       "    </tr>\n",
       "    <tr>\n",
       "      <th>1307400000</th>\n",
       "      <td>POINT (291814.193 1621220.357)</td>\n",
       "      <td>10609.537031</td>\n",
       "    </tr>\n",
       "    <tr>\n",
       "      <th>1307500000</th>\n",
       "      <td>POINT (284291.567 1627188.261)</td>\n",
       "      <td>12145.812779</td>\n",
       "    </tr>\n",
       "    <tr>\n",
       "      <th>1307600000</th>\n",
       "      <td>POINT (287184.674 1601809.744)</td>\n",
       "      <td>13885.303277</td>\n",
       "    </tr>\n",
       "  </tbody>\n",
       "</table>\n",
       "</div>"
      ],
      "text/plain": [
       "                                  centroid  distance_to_1st\n",
       "adm2_psgc                                                  \n",
       "1303900000   POINT (283150.685 1615096.15)         0.000000\n",
       "1307400000  POINT (291814.193 1621220.357)     10609.537031\n",
       "1307500000  POINT (284291.567 1627188.261)     12145.812779\n",
       "1307600000  POINT (287184.674 1601809.744)     13885.303277"
      ]
     },
     "execution_count": 5,
     "metadata": {},
     "output_type": "execute_result"
    }
   ],
   "source": [
    "# Use 1st District's centroid as the reference point\n",
    "centroid0 = gdf.loc[1303900000, \"centroid\"]\n",
    "\n",
    "# Calculate the distance from each centroid to the 1st District\n",
    "gdf[\"distance_to_1st\"] = gdf[\"centroid\"].distance(centroid0)\n",
    "gdf[[\"centroid\", \"distance_to_1st\"]]"
   ]
  },
  {
   "cell_type": "markdown",
   "id": "20",
   "metadata": {},
   "source": [
    "### Calculating Mean Distance\n",
    "\n",
    "We can calculate the mean distance between the district centroids and 1st District:"
   ]
  },
  {
   "cell_type": "code",
   "execution_count": 6,
   "id": "21",
   "metadata": {},
   "outputs": [
    {
     "name": "stdout",
     "output_type": "stream",
     "text": [
      "Mean distance to 1st district: 9160.16327191259 units\n"
     ]
    }
   ],
   "source": [
    "mean_distance = gdf[\"distance_to_1st\"].mean()\n",
    "print(f\"Mean distance to 1st district: {mean_distance} units\")"
   ]
  },
  {
   "cell_type": "markdown",
   "id": "22",
   "metadata": {},
   "source": [
    "## Plotting Geospatial Data\n",
    "\n",
    "GeoPandas integrates with Matplotlib for easy plotting of geospatial data. Let's create some maps to visualize the data.\n",
    "\n",
    "### Plotting the Area of Each Borough\n",
    "\n",
    "We can color the boroughs based on their area and display a legend:"
   ]
  },
  {
   "cell_type": "code",
   "execution_count": 7,
   "id": "23",
   "metadata": {},
   "outputs": [
    {
     "data": {
      "image/png": "[encoded data removed]",
      "text/plain": [
       "<Figure size 1000x600 with 2 Axes>"
      ]
     },
     "metadata": {},
     "output_type": "display_data"
    }
   ],
   "source": [
    "gdf.plot(\"area\", legend=True, figsize=(10, 6))\n",
    "plt.title(\"NCR Districts by Area\")\n",
    "plt.show()"
   ]
  },
  {
   "cell_type": "markdown",
   "id": "24",
   "metadata": {},
   "source": [
    "### Plotting Centroids and Boundaries\n",
    "\n",
    "We can also plot the centroids and boundaries:"
   ]
  },
  {
   "cell_type": "code",
   "execution_count": 8,
   "id": "25",
   "metadata": {},
   "outputs": [
    {
     "data": {
      "image/png": "[encoded data removed]",
      "text/plain": [
       "<Figure size 1000x600 with 1 Axes>"
      ]
     },
     "metadata": {},
     "output_type": "display_data"
    }
   ],
   "source": [
    "# Plot the boundaries and centroids\n",
    "ax = gdf[\"geometry\"].plot(figsize=(10, 6), edgecolor=\"black\")\n",
    "gdf[\"centroid\"].plot(ax=ax, color=\"red\", markersize=50)\n",
    "plt.title(\"NCR District Boundaries and Centroids\")\n",
    "plt.show()"
   ]
  },
  {
   "cell_type": "markdown",
   "id": "26",
   "metadata": {},
   "source": [
    "You can also explore your data interactively using `GeoDataFrame.explore()`, which behaves in the same way `plot()` does but returns an interactive map instead."
   ]
  },
  {
   "cell_type": "code",
   "execution_count": 6,
   "id": "27",
   "metadata": {},
   "outputs": [
    {
     "data": {
      "text/html": [
       "<div style=\"width:100%;\"><div style=\"position:relative;width:100%;height:0;padding-bottom:60%;\"><span style=\"color:#565656\">Make this Notebook Trusted to load map: File -> Trust Notebook</span><iframe srcdoc=\"&lt;!DOCTYPE html&gt;\n",
       "&lt;html&gt;\n",
       "&lt;head&gt;\n",
       "    \n",
       "    &lt;meta http-equiv=&quot;content-type&quot; content=&quot;text/html; charset=UTF-8&quot; /&gt;\n",
       "    \n",
       "        &lt;script&gt;\n",
       "            L_NO_TOUCH = false;\n",
       "            L_DISABLE_3D = false;\n",
       "        &lt;/script&gt;\n",
       "    \n",
       "    &lt;style&gt;html, body {width: 100%;height: 100%;margin: 0;padding: 0;}&lt;/style&gt;\n",
       "    &lt;style&gt;#map {position:absolute;top:0;bottom:0;right:0;left:0;}&lt;/style&gt;\n",
       "    &lt;script src=&quot;https://cdn.jsdelivr.net/npm/leaflet@1.9.3/dist/leaflet.js&quot;&gt;&lt;/script&gt;\n",
       "    &lt;script src=&quot;https://code.jquery.com/jquery-3.7.1.min.js&quot;&gt;&lt;/script&gt;\n",
       "    &lt;script src=&quot;https://cdn.jsdelivr.net/npm/bootstrap@5.2.2/dist/js/bootstrap.bundle.min.js&quot;&gt;&lt;/script&gt;\n",
       "    &lt;script src=&quot;https://cdnjs.cloudflare.com/ajax/libs/Leaflet.awesome-markers/2.0.2/leaflet.awesome-markers.js&quot;&gt;&lt;/script&gt;\n",
       "    &lt;link rel=&quot;stylesheet&quot; href=&quot;https://cdn.jsdelivr.net/npm/leaflet@1.9.3/dist/leaflet.css&quot;/&gt;\n",
       "    &lt;link rel=&quot;stylesheet&quot; href=&quot;https://cdn.jsdelivr.net/npm/bootstrap@5.2.2/dist/css/bootstrap.min.css&quot;/&gt;\n",
       "    &lt;link rel=&quot;stylesheet&quot; href=&quot;https://netdna.bootstrapcdn.com/bootstrap/3.0.0/css/bootstrap-glyphicons.css&quot;/&gt;\n",
       "    &lt;link rel=&quot;stylesheet&quot; href=&quot;https://cdn.jsdelivr.net/npm/@fortawesome/fontawesome-free@6.2.0/css/all.min.css&quot;/&gt;\n",
       "    &lt;link rel=&quot;stylesheet&quot; href=&quot;https://cdnjs.cloudflare.com/ajax/libs/Leaflet.awesome-markers/2.0.2/leaflet.awesome-markers.css&quot;/&gt;\n",
       "    &lt;link rel=&quot;stylesheet&quot; href=&quot;https://cdn.jsdelivr.net/gh/python-visualization/folium/folium/templates/leaflet.awesome.rotate.min.css&quot;/&gt;\n",
       "    \n",
       "            &lt;meta name=&quot;viewport&quot; content=&quot;width=device-width,\n",
       "                initial-scale=1.0, maximum-scale=1.0, user-scalable=no&quot; /&gt;\n",
       "            &lt;style&gt;\n",
       "                #map_fd97d67a5c3d616a075f2a8492693e73 {\n",
       "                    position: relative;\n",
       "                    width: 100.0%;\n",
       "                    height: 100.0%;\n",
       "                    left: 0.0%;\n",
       "                    top: 0.0%;\n",
       "                }\n",
       "                .leaflet-container { font-size: 1rem; }\n",
       "            &lt;/style&gt;\n",
       "        \n",
       "    \n",
       "                    &lt;style&gt;\n",
       "                        .foliumtooltip {\n",
       "                            \n",
       "                        }\n",
       "                       .foliumtooltip table{\n",
       "                            margin: auto;\n",
       "                        }\n",
       "                        .foliumtooltip tr{\n",
       "                            text-align: left;\n",
       "                        }\n",
       "                        .foliumtooltip th{\n",
       "                            padding: 2px; padding-right: 8px;\n",
       "                        }\n",
       "                    &lt;/style&gt;\n",
       "            \n",
       "&lt;/head&gt;\n",
       "&lt;body&gt;\n",
       "    \n",
       "    \n",
       "            &lt;div class=&quot;folium-map&quot; id=&quot;map_fd97d67a5c3d616a075f2a8492693e73&quot; &gt;&lt;/div&gt;\n",
       "        \n",
       "&lt;/body&gt;\n",
       "&lt;script&gt;\n",
       "    \n",
       "    \n",
       "            var map_fd97d67a5c3d616a075f2a8492693e73 = L.map(\n",
       "                &quot;map_fd97d67a5c3d616a075f2a8492693e73&quot;,\n",
       "                {\n",
       "                    center: [14.568866805000052, 121.03011536850005],\n",
       "                    crs: L.CRS.EPSG3857,\n",
       "                    zoom: 10,\n",
       "                    zoomControl: true,\n",
       "                    preferCanvas: false,\n",
       "                }\n",
       "            );\n",
       "            L.control.scale().addTo(map_fd97d67a5c3d616a075f2a8492693e73);\n",
       "\n",
       "            \n",
       "\n",
       "        \n",
       "    \n",
       "            var tile_layer_8d26a4a76adab5254c415d596e8ba806 = L.tileLayer(\n",
       "                &quot;https://tile.openstreetmap.org/{z}/{x}/{y}.png&quot;,\n",
       "                {&quot;attribution&quot;: &quot;\\u0026copy; \\u003ca href=\\&quot;https://www.openstreetmap.org/copyright\\&quot;\\u003eOpenStreetMap\\u003c/a\\u003e contributors&quot;, &quot;detectRetina&quot;: false, &quot;maxNativeZoom&quot;: 19, &quot;maxZoom&quot;: 19, &quot;minZoom&quot;: 0, &quot;noWrap&quot;: false, &quot;opacity&quot;: 1, &quot;subdomains&quot;: &quot;abc&quot;, &quot;tms&quot;: false}\n",
       "            );\n",
       "        \n",
       "    \n",
       "            tile_layer_8d26a4a76adab5254c415d596e8ba806.addTo(map_fd97d67a5c3d616a075f2a8492693e73);\n",
       "        \n",
       "    \n",
       "            map_fd97d67a5c3d616a075f2a8492693e73.fitBounds(\n",
       "                [[14.355170370000051, 120.92536221600005], [14.782563240000055, 121.13486852100006]],\n",
       "                {}\n",
       "            );\n",
       "        \n",
       "    \n",
       "        function geo_json_5ff4c7b1936fbde3110cbb111bbf1da6_styler(feature) {\n",
       "            switch(feature.id) {\n",
       "                case &quot;0&quot;: \n",
       "                    return {&quot;color&quot;: &quot;#440154&quot;, &quot;fillColor&quot;: &quot;#440154&quot;, &quot;fillOpacity&quot;: 0.5, &quot;weight&quot;: 2};\n",
       "                case &quot;1&quot;: \n",
       "                    return {&quot;color&quot;: &quot;#fde725&quot;, &quot;fillColor&quot;: &quot;#fde725&quot;, &quot;fillOpacity&quot;: 0.5, &quot;weight&quot;: 2};\n",
       "                case &quot;2&quot;: \n",
       "                    return {&quot;color&quot;: &quot;#24868e&quot;, &quot;fillColor&quot;: &quot;#24868e&quot;, &quot;fillOpacity&quot;: 0.5, &quot;weight&quot;: 2};\n",
       "                default:\n",
       "                    return {&quot;color&quot;: &quot;#84d44b&quot;, &quot;fillColor&quot;: &quot;#84d44b&quot;, &quot;fillOpacity&quot;: 0.5, &quot;weight&quot;: 2};\n",
       "            }\n",
       "        }\n",
       "        function geo_json_5ff4c7b1936fbde3110cbb111bbf1da6_highlighter(feature) {\n",
       "            switch(feature.id) {\n",
       "                default:\n",
       "                    return {&quot;fillOpacity&quot;: 0.75};\n",
       "            }\n",
       "        }\n",
       "        function geo_json_5ff4c7b1936fbde3110cbb111bbf1da6_pointToLayer(feature, latlng) {\n",
       "            var opts = {&quot;bubblingMouseEvents&quot;: true, &quot;color&quot;: &quot;#3388ff&quot;, &quot;dashArray&quot;: null, &quot;dashOffset&quot;: null, &quot;fill&quot;: true, &quot;fillColor&quot;: &quot;#3388ff&quot;, &quot;fillOpacity&quot;: 0.2, &quot;fillRule&quot;: &quot;evenodd&quot;, &quot;lineCap&quot;: &quot;round&quot;, &quot;lineJoin&quot;: &quot;round&quot;, &quot;opacity&quot;: 1.0, &quot;radius&quot;: 2, &quot;stroke&quot;: true, &quot;weight&quot;: 3};\n",
       "            \n",
       "            let style = geo_json_5ff4c7b1936fbde3110cbb111bbf1da6_styler(feature)\n",
       "            Object.assign(opts, style)\n",
       "            \n",
       "            return new L.CircleMarker(latlng, opts)\n",
       "        }\n",
       "\n",
       "        function geo_json_5ff4c7b1936fbde3110cbb111bbf1da6_onEachFeature(feature, layer) {\n",
       "            layer.on({\n",
       "                mouseout: function(e) {\n",
       "                    if(typeof e.target.setStyle === &quot;function&quot;){\n",
       "                            geo_json_5ff4c7b1936fbde3110cbb111bbf1da6.resetStyle(e.target);\n",
       "                    }\n",
       "                },\n",
       "                mouseover: function(e) {\n",
       "                    if(typeof e.target.setStyle === &quot;function&quot;){\n",
       "                        const highlightStyle = geo_json_5ff4c7b1936fbde3110cbb111bbf1da6_highlighter(e.target.feature)\n",
       "                        e.target.setStyle(highlightStyle);\n",
       "                    }\n",
       "                },\n",
       "            });\n",
       "        };\n",
       "        var geo_json_5ff4c7b1936fbde3110cbb111bbf1da6 = L.geoJson(null, {\n",
       "                onEachFeature: geo_json_5ff4c7b1936fbde3110cbb111bbf1da6_onEachFeature,\n",
       "            \n",
       "                style: geo_json_5ff4c7b1936fbde3110cbb111bbf1da6_styler,\n",
       "                pointToLayer: geo_json_5ff4c7b1936fbde3110cbb111bbf1da6_pointToLayer,\n",
       "        });\n",
       "\n",
       "        function geo_json_5ff4c7b1936fbde3110cbb111bbf1da6_add (data) {\n",
       "            geo_json_5ff4c7b1936fbde3110cbb111bbf1da6\n",
       "                .addData(data);\n",
       "        }\n",
       "            geo_json_5ff4c7b1936fbde3110cbb111bbf1da6_add({&quot;bbox&quot;: [120.92536221600005, 14.355170370000051, 121.13486852100006, 14.782563240000055], &quot;features&quot;: [{&quot;bbox&quot;: [120.95779251100011, 14.560101142000056, 121.02346203800005, 14.636527028000051], &quot;geometry&quot;: {&quot;coordinates&quot;: [[[120.99197344400011, 14.636527028000051], [120.95779251100011, 14.633909253000077], [120.95903865900003, 14.584665776000065], [120.98589039800005, 14.560101142000056], [121.01761120300011, 14.579408116000026], [121.02346203800005, 14.599584719000067], [120.99197344400011, 14.636527028000051]]], &quot;type&quot;: &quot;Polygon&quot;}, &quot;id&quot;: &quot;0&quot;, &quot;properties&quot;: {&quot;__folium_color&quot;: &quot;#440154&quot;, &quot;adm1_psgc&quot;: 1300000000, &quot;adm2_en&quot;: &quot;NCR, City of Manila, First District (Not a Province)&quot;, &quot;adm2_psgc&quot;: 1303900000, &quot;area&quot;: 42017814.9223775, &quot;area_crs&quot;: 41975413, &quot;area_km2&quot;: 41, &quot;distance_to_1st&quot;: 0.0, &quot;geo_level&quot;: &quot;Dist&quot;, &quot;len_crs&quot;: 65456, &quot;len_km&quot;: 65}, &quot;type&quot;: &quot;Feature&quot;}, {&quot;bbox&quot;: [120.99197344400011, 14.531997657000032, 121.13486852100006, 14.766289029000061], &quot;geometry&quot;: {&quot;coordinates&quot;: [[[121.1033378410001, 14.531997657000032], [121.0968965510001, 14.569254547000078], [121.11044978200005, 14.592235448000055], [121.10549838300007, 14.632654354000062], [121.13486852100006, 14.65885238300007], [121.11188912900003, 14.671163089000055], [121.12478007000006, 14.766289029000061], [121.09972917900006, 14.765222305000064], [121.0750391780001, 14.74019406700006], [121.04083690900006, 14.742111187000035], [121.01443080000003, 14.719158309000022], [121.02265398600002, 14.687140174000033], [120.99197344400011, 14.636527028000051], [121.02346203800005, 14.599584719000067], [121.01761120300011, 14.579408116000026], [121.05041966400006, 14.568402103000038], [121.1033378410001, 14.531997657000032]]], &quot;type&quot;: &quot;Polygon&quot;}, &quot;id&quot;: &quot;1&quot;, &quot;properties&quot;: {&quot;__folium_color&quot;: &quot;#fde725&quot;, &quot;adm1_psgc&quot;: 1300000000, &quot;adm2_en&quot;: &quot;NCR, Second District (Not a Province)&quot;, &quot;adm2_psgc&quot;: 1307400000, &quot;area&quot;: 223350396.0445871, &quot;area_crs&quot;: 233830886, &quot;area_km2&quot;: 233, &quot;distance_to_1st&quot;: 10609.53703140692, &quot;geo_level&quot;: &quot;Dist&quot;, &quot;len_crs&quot;: 103620, &quot;len_km&quot;: 103}, &quot;type&quot;: &quot;Feature&quot;}, {&quot;bbox&quot;: [120.92536221600005, 14.633909253000077, 121.09972917900006, 14.782563240000055], &quot;geometry&quot;: {&quot;coordinates&quot;: [[[121.09972917900006, 14.765222305000064], [121.05542050700002, 14.782563240000055], [121.02402399100004, 14.763034879000028], [120.9901370550001, 14.75706363100005], [120.97852281100006, 14.73480671900006], [120.92596146500011, 14.734299748000069], [120.95312750500011, 14.694240067000067], [120.92536221600005, 14.683986922000036], [120.95779251100011, 14.633909253000077], [120.99197344400011, 14.636527028000051], [121.02265398600002, 14.687140174000033], [121.01443080000003, 14.719158309000022], [121.04083690900006, 14.742111187000035], [121.0750391780001, 14.74019406700006], [121.09972917900006, 14.765222305000064]]], &quot;type&quot;: &quot;Polygon&quot;}, &quot;id&quot;: &quot;2&quot;, &quot;properties&quot;: {&quot;__folium_color&quot;: &quot;#24868e&quot;, &quot;adm1_psgc&quot;: 1300000000, &quot;adm2_en&quot;: &quot;NCR, Third District (Not a Province)&quot;, &quot;adm2_psgc&quot;: 1307500000, &quot;area&quot;: 124909884.92009813, &quot;area_crs&quot;: 126134749, &quot;area_km2&quot;: 126, &quot;distance_to_1st&quot;: 12145.812779483755, &quot;geo_level&quot;: &quot;Dist&quot;, &quot;len_crs&quot;: 103619, &quot;len_km&quot;: 103}, &quot;type&quot;: &quot;Feature&quot;}, {&quot;bbox&quot;: [120.9660033990001, 14.355170370000051, 121.1033378410001, 14.579408116000026], &quot;geometry&quot;: {&quot;coordinates&quot;: [[[121.1033378410001, 14.531997657000032], [121.05041966400006, 14.568402103000038], [121.01761120300011, 14.579408116000026], [120.98589039800005, 14.560101142000056], [120.98145922900007, 14.48827595700004], [120.9660033990001, 14.46572236600002], [121.01161116900006, 14.380260945000037], [121.00759085400011, 14.355170370000051], [121.05150154700004, 14.369658617000026], [121.0533802880001, 14.454051363000076], [121.06932934800011, 14.506686393000047], [121.1033378410001, 14.531997657000032]]], &quot;type&quot;: &quot;Polygon&quot;}, &quot;id&quot;: &quot;3&quot;, &quot;properties&quot;: {&quot;__folium_color&quot;: &quot;#84d44b&quot;, &quot;adm1_psgc&quot;: 1300000000, &quot;adm2_en&quot;: &quot;NCR, Fourth District (Not a Province)&quot;, &quot;adm2_psgc&quot;: 1307600000, &quot;area&quot;: 189573672.0039326, &quot;area_crs&quot;: 196785340, &quot;area_km2&quot;: 196, &quot;distance_to_1st&quot;: 13885.303276759685, &quot;geo_level&quot;: &quot;Dist&quot;, &quot;len_crs&quot;: 102146, &quot;len_km&quot;: 102}, &quot;type&quot;: &quot;Feature&quot;}], &quot;type&quot;: &quot;FeatureCollection&quot;});\n",
       "\n",
       "        \n",
       "    \n",
       "    geo_json_5ff4c7b1936fbde3110cbb111bbf1da6.bindTooltip(\n",
       "    function(layer){\n",
       "    let div = L.DomUtil.create(&#x27;div&#x27;);\n",
       "    \n",
       "    let handleObject = feature=&gt;typeof(feature)==&#x27;object&#x27; ? JSON.stringify(feature) : feature;\n",
       "    let fields = [&quot;adm2_psgc&quot;, &quot;adm1_psgc&quot;, &quot;adm2_en&quot;, &quot;geo_level&quot;, &quot;len_crs&quot;, &quot;area_crs&quot;, &quot;len_km&quot;, &quot;area_km2&quot;, &quot;area&quot;, &quot;distance_to_1st&quot;];\n",
       "    let aliases = [&quot;adm2_psgc&quot;, &quot;adm1_psgc&quot;, &quot;adm2_en&quot;, &quot;geo_level&quot;, &quot;len_crs&quot;, &quot;area_crs&quot;, &quot;len_km&quot;, &quot;area_km2&quot;, &quot;area&quot;, &quot;distance_to_1st&quot;];\n",
       "    let table = &#x27;&lt;table&gt;&#x27; +\n",
       "        String(\n",
       "        fields.map(\n",
       "        (v,i)=&gt;\n",
       "        `&lt;tr&gt;\n",
       "            &lt;th&gt;${aliases[i]}&lt;/th&gt;\n",
       "            \n",
       "            &lt;td&gt;${handleObject(layer.feature.properties[v])}&lt;/td&gt;\n",
       "        &lt;/tr&gt;`).join(&#x27;&#x27;))\n",
       "    +&#x27;&lt;/table&gt;&#x27;;\n",
       "    div.innerHTML=table;\n",
       "    \n",
       "    return div\n",
       "    }\n",
       "    ,{&quot;className&quot;: &quot;foliumtooltip&quot;, &quot;sticky&quot;: true});\n",
       "                     \n",
       "    \n",
       "            geo_json_5ff4c7b1936fbde3110cbb111bbf1da6.addTo(map_fd97d67a5c3d616a075f2a8492693e73);\n",
       "        \n",
       "&lt;/script&gt;\n",
       "&lt;/html&gt;\" style=\"position:absolute;width:100%;height:100%;left:0;top:0;border:none !important;\" allowfullscreen webkitallowfullscreen mozallowfullscreen></iframe></div></div>"
      ],
      "text/plain": [
       "<folium.folium.Map at 0x7fa009b104d0>"
      ]
     },
     "execution_count": 6,
     "metadata": {},
     "output_type": "execute_result"
    }
   ],
   "source": [
    "gdf.explore(\"area\", legend=False)"
   ]
  },
  {
   "cell_type": "markdown",
   "id": "28",
   "metadata": {},
   "source": [
    "## Geometry Manipulations\n",
    "\n",
    "GeoPandas provides several methods for manipulating geometries, such as buffering (creating a buffer zone around geometries) and computing convex hulls (the smallest convex shape enclosing the geometries).\n",
    "\n",
    "### Buffering Geometries\n",
    "\n",
    "We can create a buffer zone around each district:"
   ]
  },
  {
   "cell_type": "code",
   "execution_count": 8,
   "id": "29",
   "metadata": {},
   "outputs": [
    {
     "data": {
      "image/png": "[encoded data removed]",
      "text/plain": [
       "<Figure size 640x480 with 1 Axes>"
      ]
     },
     "metadata": {},
     "output_type": "display_data"
    }
   ],
   "source": [
    "# Buffer the districts by 10000 feet\n",
    "gdf[\"buffered\"] = gdf.buffer(10000)\n",
    "\n",
    "# Plot the buffered geometries\n",
    "gdf[\"buffered\"].plot(alpha=0.5, edgecolor=\"black\")\n",
    "plt.title(\"Buffered NCR Districts (10,000 feet)\")\n",
    "plt.show()"
   ]
  },
  {
   "cell_type": "markdown",
   "id": "30",
   "metadata": {},
   "source": [
    "### Convex Hulls\n",
    "\n",
    "The convex hull is the smallest convex shape that can enclose a geometry. Let's calculate the convex hull for each district:"
   ]
  },
  {
   "cell_type": "code",
   "execution_count": 9,
   "id": "31",
   "metadata": {},
   "outputs": [
    {
     "data": {
      "image/png": "[encoded data removed]",
      "text/plain": [
       "<Figure size 640x480 with 1 Axes>"
      ]
     },
     "metadata": {},
     "output_type": "display_data"
    }
   ],
   "source": [
    "# Calculate convex hull\n",
    "gdf[\"convex_hull\"] = gdf.convex_hull\n",
    "\n",
    "# Plot the convex hulls\n",
    "gdf[\"convex_hull\"].plot(alpha=0.5, color=\"lightblue\", edgecolor=\"black\")\n",
    "plt.title(\"Convex Hull of NCR Districts\")\n",
    "plt.show()"
   ]
  },
  {
   "cell_type": "markdown",
   "id": "32",
   "metadata": {},
   "source": [
    "## Spatial Queries and Relations\n",
    "\n",
    "We can also perform spatial queries to examine relationships between geometries. For instance, we can check which boroughs are within a certain distance of Manhattan.\n",
    "\n",
    "### Checking for Intersections\n",
    "\n",
    "We can find which boroughs' buffered areas intersect with the original geometry of Manhattan:"
   ]
  },
  {
   "cell_type": "code",
   "execution_count": 10,
   "id": "33",
   "metadata": {},
   "outputs": [
    {
     "data": {
      "text/html": [
       "<div>\n",
       "<style scoped>\n",
       "    .dataframe tbody tr th:only-of-type {\n",
       "        vertical-align: middle;\n",
       "    }\n",
       "\n",
       "    .dataframe tbody tr th {\n",
       "        vertical-align: top;\n",
       "    }\n",
       "\n",
       "    .dataframe thead th {\n",
       "        text-align: right;\n",
       "    }\n",
       "</style>\n",
       "<table border=\"1\" class=\"dataframe\">\n",
       "  <thead>\n",
       "    <tr style=\"text-align: right;\">\n",
       "      <th></th>\n",
       "      <th>intersects_1st</th>\n",
       "    </tr>\n",
       "    <tr>\n",
       "      <th>adm2_psgc</th>\n",
       "      <th></th>\n",
       "    </tr>\n",
       "  </thead>\n",
       "  <tbody>\n",
       "    <tr>\n",
       "      <th>1303900000</th>\n",
       "      <td>True</td>\n",
       "    </tr>\n",
       "    <tr>\n",
       "      <th>1307400000</th>\n",
       "      <td>True</td>\n",
       "    </tr>\n",
       "    <tr>\n",
       "      <th>1307500000</th>\n",
       "      <td>True</td>\n",
       "    </tr>\n",
       "    <tr>\n",
       "      <th>1307600000</th>\n",
       "      <td>True</td>\n",
       "    </tr>\n",
       "  </tbody>\n",
       "</table>\n",
       "</div>"
      ],
      "text/plain": [
       "            intersects_1st\n",
       "adm2_psgc                 \n",
       "1303900000            True\n",
       "1307400000            True\n",
       "1307500000            True\n",
       "1307600000            True"
      ]
     },
     "execution_count": 10,
     "metadata": {},
     "output_type": "execute_result"
    }
   ],
   "source": [
    "# Get the geometry of Manhattan\n",
    "geom0 = gdf.loc[1303900000, \"geometry\"]\n",
    "\n",
    "# Check which buffered districts intersect with 1st District's geometry\n",
    "gdf[\"intersects_1st\"] = gdf[\"buffered\"].intersects(geom0)\n",
    "gdf[[\"intersects_1st\"]]"
   ]
  },
  {
   "cell_type": "markdown",
   "id": "34",
   "metadata": {},
   "source": [
    "### Checking for Containment\n",
    "\n",
    "Similarly, we can check if the centroids are contained within the borough boundaries:"
   ]
  },
  {
   "cell_type": "code",
   "execution_count": 11,
   "id": "35",
   "metadata": {},
   "outputs": [
    {
     "data": {
      "text/html": [
       "<div>\n",
       "<style scoped>\n",
       "    .dataframe tbody tr th:only-of-type {\n",
       "        vertical-align: middle;\n",
       "    }\n",
       "\n",
       "    .dataframe tbody tr th {\n",
       "        vertical-align: top;\n",
       "    }\n",
       "\n",
       "    .dataframe thead th {\n",
       "        text-align: right;\n",
       "    }\n",
       "</style>\n",
       "<table border=\"1\" class=\"dataframe\">\n",
       "  <thead>\n",
       "    <tr style=\"text-align: right;\">\n",
       "      <th></th>\n",
       "      <th>centroid_within_district</th>\n",
       "    </tr>\n",
       "    <tr>\n",
       "      <th>adm2_psgc</th>\n",
       "      <th></th>\n",
       "    </tr>\n",
       "  </thead>\n",
       "  <tbody>\n",
       "    <tr>\n",
       "      <th>1303900000</th>\n",
       "      <td>True</td>\n",
       "    </tr>\n",
       "    <tr>\n",
       "      <th>1307400000</th>\n",
       "      <td>True</td>\n",
       "    </tr>\n",
       "    <tr>\n",
       "      <th>1307500000</th>\n",
       "      <td>True</td>\n",
       "    </tr>\n",
       "    <tr>\n",
       "      <th>1307600000</th>\n",
       "      <td>True</td>\n",
       "    </tr>\n",
       "  </tbody>\n",
       "</table>\n",
       "</div>"
      ],
      "text/plain": [
       "            centroid_within_district\n",
       "adm2_psgc                           \n",
       "1303900000                      True\n",
       "1307400000                      True\n",
       "1307500000                      True\n",
       "1307600000                      True"
      ]
     },
     "execution_count": 11,
     "metadata": {},
     "output_type": "execute_result"
    }
   ],
   "source": [
    "# Check if centroids are within the original district geometries\n",
    "gdf[\"centroid_within_district\"] = gdf[\"centroid\"].within(gdf[\"geometry\"])\n",
    "gdf[[\"centroid_within_district\"]]"
   ]
  },
  {
   "cell_type": "markdown",
   "id": "41",
   "metadata": {},
   "source": [
    "## Exercises\n",
    "\n",
    "1. Create a GeoDataFrame containing a list of countries and their capital cities. Add a geometry column with the locations of the capitals.\n",
    "2. Load a shapefile of your choice, filter the data to only include a specific region or country, and save the filtered GeoDataFrame to a new file.\n",
    "3. Perform a spatial join between two GeoDataFrames: one containing polygons (e.g., country borders) and one containing points (e.g., cities). Find out which points fall within which polygons.\n",
    "4. Plot a map showing the distribution of a particular attribute (e.g., population) across different regions."
   ]
  }
 ],
 "metadata": {
  "kernelspec": {
   "display_name": "Python 3 (ipykernel)",
   "language": "python",
   "name": "python3"
  },
  "language_info": {
   "codemirror_mode": {
    "name": "ipython",
    "version": 3
   },
   "file_extension": ".py",
   "mimetype": "text/x-python",
   "name": "python",
   "nbconvert_exporter": "python",
   "pygments_lexer": "ipython3",
   "version": "3.11.10"
  }
 },
 "nbformat": 4,
 "nbformat_minor": 5
}
