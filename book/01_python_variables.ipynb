{
 "cells": [
  {
   "cell_type": "markdown",
   "id": "b48c8b30-a0d3-41c9-8b01-ecdeadbd9d95",
   "metadata": {},
   "source": [
    "# Variables and Data Types\n",
    "\n",
    "[![Open In Colab](https://colab.research.google.com/assets/colab-badge.svg)](https://colab.research.google.com/github/atsuyaourt/gis-python-tutorial/blob/main/book/01_python_variables.ipynb)"
   ]
  },
  {
   "cell_type": "markdown",
   "id": "1",
   "metadata": {},
   "source": [
    "## Variables in Python\n",
    "Let's start by creating a simple variable that represents the number of spatial points in a dataset."
   ]
  },
  {
   "cell_type": "code",
   "execution_count": 2,
   "id": "2",
   "metadata": {},
   "outputs": [],
   "source": [
    "num_points = 120"
   ]
  },
  {
   "cell_type": "markdown",
   "id": "3",
   "metadata": {},
   "source": [
    "This variable `num_points` now holds the integer value 120, which we can use in our calculations or logic.\n",
    "\n",
    "To view the value of the variable, we can use the `print()` function."
   ]
  },
  {
   "cell_type": "code",
   "execution_count": 3,
   "id": "4",
   "metadata": {},
   "outputs": [
    {
     "name": "stdout",
     "output_type": "stream",
     "text": [
      "120\n"
     ]
    }
   ],
   "source": [
    "print(num_points)"
   ]
  },
  {
   "cell_type": "markdown",
   "id": "5",
   "metadata": {},
   "source": [
    "Alternatively, we can simply type the variable name in a code cell and run the cell to display the value of the variable."
   ]
  },
  {
   "cell_type": "code",
   "execution_count": 4,
   "id": "6",
   "metadata": {},
   "outputs": [
    {
     "data": {
      "text/plain": [
       "120"
      ]
     },
     "execution_count": 4,
     "metadata": {},
     "output_type": "execute_result"
    }
   ],
   "source": [
    "num_points"
   ]
  },
  {
   "cell_type": "markdown",
   "id": "7",
   "metadata": {},
   "source": [
    "## Naming Variables\n",
    "\n",
    "When naming variables, you should follow these rules:\n",
    "\n",
    "- Variable names must start with a letter or an underscore, such as `_`.\n",
    "- The remainder of the variable name can consist of letters, numbers, and underscores.\n",
    "- Variable names are case-sensitive, so `num_points` and `Num_Points` are different variables.\n",
    "- Variable names should be descriptive and meaningful, such as `num_points` instead of `n`.\n",
    "- Avoid using Python keywords and built-in functions as variable names, such as `print`, `sum`, `list`, `dict`, `str`, `int`, `float`, `bool`, `set`, `tuple`, `range`, `type`, `object`, `None`, `True`, `False`, `and`, `or`, `not`, `if`, `else`, `elif`, `for`, `while`, `break`, `continue`, `pass`, `def`, `return`, `lambda`, `class`, `import`, `from`, `as`, `with`, `try`, `except`, `finally`, `raise`, `assert`, `del`, `in`, `is`, `global`, `nonlocal`, `yield`, `async`, `await`."
   ]
  },
  {
   "cell_type": "markdown",
   "id": "8",
   "metadata": {},
   "source": [
    "## Data Types\n",
    "\n",
    "Python supports various data types, which are essential to understand before working with geospatial data. The most common data types include:\n",
    "\n",
    "**a) Integers (int):** These are whole numbers, e.g., 1, 120, -5"
   ]
  },
  {
   "cell_type": "code",
   "execution_count": null,
   "id": "9",
   "metadata": {},
   "outputs": [],
   "source": [
    "num_features = 500  # Represents the number of features in a geospatial dataset"
   ]
  },
  {
   "cell_type": "markdown",
   "id": "10",
   "metadata": {},
   "source": [
    "**b) Floating-point numbers (float):** These are numbers with a decimal point, e.g., 3.14, -0.001, 100.0. You can write multiple lines of code in a single code cell. The output will be displayed for the last line of code."
   ]
  },
  {
   "cell_type": "code",
   "execution_count": null,
   "id": "11",
   "metadata": {},
   "outputs": [],
   "source": [
    "latitude = 14.6091  # Represents the latitude of a point on Earth's surface\n",
    "longitude = 121.0223  # Represents the longitude of a point on Earth's surface"
   ]
  },
  {
   "cell_type": "markdown",
   "id": "12",
   "metadata": {},
   "source": [
    "**c) Strings (str):** Strings are sequences of characters, e.g., \"Hello\", \"Geospatial Data\", \"Lat/Long\""
   ]
  },
  {
   "cell_type": "code",
   "execution_count": null,
   "id": "13",
   "metadata": {},
   "outputs": [],
   "source": [
    "coordinate_system = \"WGS 84\"  # Represents a commonly used coordinate system"
   ]
  },
  {
   "cell_type": "markdown",
   "id": "14",
   "metadata": {},
   "source": [
    "Strings can be enclosed in single quotes (`'`) or double quotes (`\"`). You can also use triple quotes (`'''` or `\"\"\"`) for multiline strings."
   ]
  },
  {
   "cell_type": "markdown",
   "id": "15",
   "metadata": {},
   "source": [
    "**d) Booleans (bool):** Booleans represent one of two values: True or False"
   ]
  },
  {
   "cell_type": "code",
   "execution_count": null,
   "id": "16",
   "metadata": {},
   "outputs": [],
   "source": [
    "is_georeferenced = True  # Represents whether a dataset is georeferenced or not"
   ]
  },
  {
   "cell_type": "markdown",
   "id": "17",
   "metadata": {},
   "source": [
    "**e) Lists:** Lists are ordered collections of items, which can be of any data type."
   ]
  },
  {
   "cell_type": "code",
   "execution_count": null,
   "id": "18",
   "metadata": {},
   "outputs": [],
   "source": [
    "coordinates = [\n",
    "    14.6091,\n",
    "    121.0223,\n",
    "]  # A list representing latitude and longitude of a point"
   ]
  },
  {
   "cell_type": "markdown",
   "id": "19",
   "metadata": {},
   "source": [
    "**f) Dictionaries (dict):** Dictionaries are collections of key-value pairs."
   ]
  },
  {
   "cell_type": "code",
   "execution_count": 16,
   "id": "20",
   "metadata": {},
   "outputs": [],
   "source": [
    "feature_attributes = {\n",
    "    \"name\": \"NCR\",\n",
    "    \"elevation_meters\": 43,\n",
    "    \"type\": \"Capital\",\n",
    "    \"location\": [14.6091, 121.0223],\n",
    "}"
   ]
  },
  {
   "cell_type": "markdown",
   "id": "30",
   "metadata": {},
   "source": [
    "## Working with Variables and Data Types\n",
    "\n",
    "Now, let's do some basic operations with these variables.\n",
    "\n",
    "Adding a constant to the number of features:"
   ]
  },
  {
   "cell_type": "code",
   "execution_count": null,
   "id": "31",
   "metadata": {},
   "outputs": [],
   "source": [
    "num_features += 20\n",
    "print(\"Updated number of features:\", num_features)"
   ]
  },
  {
   "cell_type": "markdown",
   "id": "32",
   "metadata": {},
   "source": [
    "Converting latitude from degrees to radians (required for some geospatial calculations):"
   ]
  },
  {
   "cell_type": "code",
   "execution_count": 6,
   "id": "33",
   "metadata": {},
   "outputs": [
    {
     "name": "stdout",
     "output_type": "stream",
     "text": [
      "Latitude in radians: 0.2549768957531036\n"
     ]
    }
   ],
   "source": [
    "import math\n",
    "\n",
    "latitude = 14.6091\n",
    "latitude_radians = math.radians(latitude)\n",
    "print(\"Latitude in radians:\", latitude_radians)"
   ]
  },
  {
   "cell_type": "markdown",
   "id": "34",
   "metadata": {},
   "source": [
    "Adding new coordinates to the list:"
   ]
  },
  {
   "cell_type": "code",
   "execution_count": 7,
   "id": "35",
   "metadata": {},
   "outputs": [
    {
     "name": "stdout",
     "output_type": "stream",
     "text": [
      "Updated coordinates: [14.6091, 121.0223, 6.9214, 122.079]\n"
     ]
    }
   ],
   "source": [
    "coordinates = [14.6091, 121.0223]\n",
    "coordinates.append(6.9214)  # Adding latitude of Zamboanga City\n",
    "coordinates.append(122.0790)  # Adding longitude of Zamboanga City\n",
    "print(\"Updated coordinates:\", coordinates)"
   ]
  },
  {
   "cell_type": "markdown",
   "id": "36",
   "metadata": {},
   "source": [
    "Accessing dictionary elements:"
   ]
  },
  {
   "cell_type": "code",
   "execution_count": 12,
   "id": "37",
   "metadata": {},
   "outputs": [
    {
     "name": "stdout",
     "output_type": "stream",
     "text": [
      "Metro Manila is 43 meters above sea level.\n"
     ]
    }
   ],
   "source": [
    "city_name = feature_attributes[\"name\"]\n",
    "city_elevation = feature_attributes[\"elevation_meters\"]\n",
    "print(f\"{city_name} is {city_elevation} meters above sea level.\")"
   ]
  },
  {
   "cell_type": "markdown",
   "id": "38",
   "metadata": {},
   "source": [
    "## Application in Geospatial Context\n",
    "\n",
    "Let's say you are given a list of coordinates and need to calculate the centroid (average point).\n",
    "\n",
    "Example coordinates of four points (latitude, longitude):"
   ]
  },
  {
   "cell_type": "code",
   "execution_count": 13,
   "id": "39",
   "metadata": {},
   "outputs": [],
   "source": [
    "points = [\n",
    "    [14.5995, 120.9842], # Manila\n",
    "    [14.6760, 121.0437], # Quezon City\n",
    "    [10.3157, 123.8854], # Cebu City\n",
    "    [7.1907, 125.4553]   # Davao City\n",
    "]"
   ]
  },
  {
   "cell_type": "markdown",
   "id": "40",
   "metadata": {},
   "source": [
    "Calculate the centroid:"
   ]
  },
  {
   "cell_type": "code",
   "execution_count": 14,
   "id": "41",
   "metadata": {},
   "outputs": [
    {
     "name": "stdout",
     "output_type": "stream",
     "text": [
      "Centroid of the points is at: [11.695475, 122.84215]\n"
     ]
    }
   ],
   "source": [
    "centroid_lat = sum([point[0] for point in points]) / len(points)\n",
    "centroid_lon = sum([point[1] for point in points]) / len(points)\n",
    "centroid = [centroid_lat, centroid_lon]\n",
    "print(\"Centroid of the points is at:\", centroid)"
   ]
  },
  {
   "cell_type": "markdown",
   "id": "414c6ae2-d1ec-4ff5-b837-594f77357c8e",
   "metadata": {},
   "source": [
    "## Exercises\n",
    "\n",
    "1. Create a list of tuples, each representing the coordinates (latitude, longitude) of different cities you have visited.\n",
    "2. Calculate the centroid of these coordinates.\n",
    "3. Create a dictionary to store the centroid's latitude and longitude."
   ]
  }
 ],
 "metadata": {
  "kernelspec": {
   "display_name": "Python 3 (ipykernel)",
   "language": "python",
   "name": "python3"
  },
  "language_info": {
   "codemirror_mode": {
    "name": "ipython",
    "version": 3
   },
   "file_extension": ".py",
   "mimetype": "text/x-python",
   "name": "python",
   "nbconvert_exporter": "python",
   "pygments_lexer": "ipython3",
   "version": "3.11.10"
  }
 },
 "nbformat": 4,
 "nbformat_minor": 5
}
