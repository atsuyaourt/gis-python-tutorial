{
 "cells": [
  {
   "cell_type": "markdown",
   "id": "0",
   "metadata": {},
   "source": [
    "# Files and Exception Handling\n",
    "\n",
    "[![Open In Colab](https://colab.research.google.com/assets/colab-badge.svg)](https://colab.research.google.com/github/atsuyaourt/gis-python-tutorial/blob/main/book/05_python_file.ipynb)"
   ]
  },
  {
   "cell_type": "markdown",
   "id": "1",
   "metadata": {},
   "source": [
    "## Creating a Sample File\n",
    "\n",
    "Before working with files, it's essential to ensure that the files you intend to process actually exist. In this section, you'll learn how to create a sample `tc_track.txt` file programmatically. This file will be used in subsequent examples."
   ]
  },
  {
   "cell_type": "code",
   "execution_count": 3,
   "id": "2",
   "metadata": {},
   "outputs": [
    {
     "name": "stdout",
     "output_type": "stream",
     "text": [
      "Sample file 'tc_track.txt' has been created successfully.\n"
     ]
    }
   ],
   "source": [
    "# Create a sample tc_track.txt file\n",
    "sample_data = \"\"\"'2009-09-25 18:00',14.9,125.0,35\n",
    "'2009-09-26 00:00',15.5,123.5,35\n",
    "'2009-09-26 06:00',15.4,121.8,35\n",
    "'2009-09-26 12:00',15.5,119.7,35\n",
    "'2009-09-26 18:00',15.7,118.1,40\n",
    "'2009-09-27 00:00',15.5,116.4,45\n",
    "'2009-09-27 06:00',15.2,115.5,55\n",
    "'2009-09-27 12:00',15.8,114.2,55\n",
    "'2009-09-27 18:00',15.8,113.4,60\n",
    "'2009-09-28 00:00',15.8,112.8,65\n",
    "'2009-09-28 12:00',16.1,111.0,90\n",
    "'2009-09-28 18:00',16.0,110.2,90\n",
    "'2009-09-29 00:00',15.5,109.5,90\n",
    "'2009-09-29 06:00',15.4,108.9,90\n",
    "'2009-09-29 12:00',15.4,107.8,55\n",
    "'2009-09-30 00:00',15.3,105.3,55\"\"\"\n",
    "\n",
    "output_file = \"tc_track.txt\"\n",
    "\n",
    "try:\n",
    "    with open(output_file, \"w\") as file:\n",
    "        file.write(sample_data)\n",
    "    print(f\"Sample file '{output_file}' has been created successfully.\")\n",
    "except Exception as e:\n",
    "    print(f\"An error occurred while creating the file: {e}\")"
   ]
  },
  {
   "cell_type": "markdown",
   "id": "3",
   "metadata": {},
   "source": [
    "In this code, we create a simple text file named `tc_track.txt` containing the timestamp, latitude and longitude of the tropical cyclone center and the corresponding intensity of Ketsana. The file is written in the current working directory.\n",
    "\n",
    "After running this script, the `tc_track.txt` file will be available for use in the following examples. If any issues occur during the file creation process, the script will handle them and print an error message."
   ]
  },
  {
   "cell_type": "markdown",
   "id": "4",
   "metadata": {},
   "source": [
    "## Working with Files\n",
    "\n",
    "In geospatial programming, you often need to read from or write to files. Python provides built-in functions to handle these tasks. Let's start by reading from a text file containing coordinates and writing the results to a new file."
   ]
  },
  {
   "cell_type": "code",
   "execution_count": 4,
   "id": "5",
   "metadata": {},
   "outputs": [
    {
     "name": "stdout",
     "output_type": "stream",
     "text": [
      "Coordinates have been written to output_coordinates.txt\n"
     ]
    }
   ],
   "source": [
    "# Example of reading coordinates from a file and writing to another file\n",
    "input_file = \"tc_track.txt\"\n",
    "output_file = \"output_coordinates.txt\"\n",
    "\n",
    "try:\n",
    "    with open(input_file, \"r\") as infile:\n",
    "        coordinates = infile.readlines()\n",
    "\n",
    "    with open(output_file, \"w\") as outfile:\n",
    "        for line in coordinates:\n",
    "            ts, lat, lon, vmax = line.strip().split(\",\")\n",
    "            outfile.write(f\"Latitude: {lat}, Longitude: {lon}\\n\")\n",
    "\n",
    "    print(f\"Coordinates have been written to {output_file}\")\n",
    "except FileNotFoundError:\n",
    "    print(f\"Error: The file {input_file} was not found.\")"
   ]
  },
  {
   "cell_type": "markdown",
   "id": "6",
   "metadata": {},
   "source": [
    "## Exception Handling\n",
    "\n",
    "Exception handling allows you to handle errors that occur during the execution of your program. This is especially important in geospatial programming, where you may encounter issues such as missing files, corrupt data, or invalid input.\n",
    "\n",
    "Let's explore how to handle different types of exceptions using `try`, `except`, and `finally`."
   ]
  },
  {
   "cell_type": "code",
   "execution_count": 5,
   "id": "7",
   "metadata": {},
   "outputs": [
    {
     "name": "stdout",
     "output_type": "stream",
     "text": [
      "Error: not enough values to unpack (expected 4, got 1). Could not parse line: invalid data\n"
     ]
    }
   ],
   "source": [
    "# Example of exception handling when parsing coordinates\n",
    "def parse_coordinates(line):\n",
    "    try:\n",
    "        _, lat, lon, _ = line.strip().split(\",\")\n",
    "        lat = float(lat)\n",
    "        lon = float(lon)\n",
    "        return lat, lon\n",
    "    except ValueError as e:\n",
    "        print(f\"Error: {e}. Could not parse line: {line.strip()}\")\n",
    "        return None\n",
    "    except Exception as e:\n",
    "        print(f\"An unexpected error occurred: {e}\")\n",
    "        return None\n",
    "\n",
    "\n",
    "# Example usage\n",
    "line = \"invalid data\"\n",
    "coordinates = parse_coordinates(line)\n",
    "if coordinates:\n",
    "    print(f\"Parsed coordinates: {coordinates}\")"
   ]
  },
  {
   "cell_type": "markdown",
   "id": "8",
   "metadata": {},
   "source": [
    "## Combining File Handling and Exception Handling\n",
    "\n",
    "You can combine file handling and exception handling to create robust geospatial applications. This allows you to ensure that files are properly handled even if errors occur during the process."
   ]
  },
  {
   "cell_type": "code",
   "execution_count": 6,
   "id": "9",
   "metadata": {},
   "outputs": [
    {
     "name": "stdout",
     "output_type": "stream",
     "text": [
      "Processed coordinates: (14.9, 125.0)\n",
      "Processed coordinates: (15.5, 123.5)\n",
      "Processed coordinates: (15.4, 121.8)\n",
      "Processed coordinates: (15.5, 119.7)\n",
      "Processed coordinates: (15.7, 118.1)\n",
      "Processed coordinates: (15.5, 116.4)\n",
      "Processed coordinates: (15.2, 115.5)\n",
      "Processed coordinates: (15.8, 114.2)\n",
      "Processed coordinates: (15.8, 113.4)\n",
      "Processed coordinates: (15.8, 112.8)\n",
      "Processed coordinates: (16.1, 111.0)\n",
      "Processed coordinates: (16.0, 110.2)\n",
      "Processed coordinates: (15.5, 109.5)\n",
      "Processed coordinates: (15.4, 108.9)\n",
      "Processed coordinates: (15.4, 107.8)\n",
      "Processed coordinates: (15.3, 105.3)\n",
      "Finished processing tc_track.txt\n"
     ]
    }
   ],
   "source": [
    "# Example of robust file handling with exceptions\n",
    "def process_geospatial_file(input_file):\n",
    "    try:\n",
    "        with open(input_file, \"r\") as infile:\n",
    "            for line in infile:\n",
    "                coordinates = parse_coordinates(line)\n",
    "                if coordinates:\n",
    "                    print(f\"Processed coordinates: {coordinates}\")\n",
    "    except FileNotFoundError:\n",
    "        print(f\"Error: The file {input_file} was not found.\")\n",
    "    except Exception as e:\n",
    "        print(f\"An unexpected error occurred while processing the file: {e}\")\n",
    "    finally:\n",
    "        print(f\"Finished processing {input_file}\")\n",
    "\n",
    "\n",
    "# Example usage\n",
    "process_geospatial_file(\"tc_track.txt\")"
   ]
  },
  {
   "cell_type": "markdown",
   "id": "10",
   "metadata": {},
   "source": [
    "## Reading GeoJSON Data from a URL\n",
    "\n",
    "In geospatial programming, it's common to access datasets hosted online. For instance, we may need to read GeoJSON data directly from a URL. Python's requests library makes it easy to retrieve such data. In this example, we'll read a GeoJSON file containing U.S. cities and handle any exceptions that may arise.\n",
    "\n",
    "First, ensure you have the requests library installed. Uncomment and run the following command if you haven't already installed it."
   ]
  },
  {
   "cell_type": "code",
   "execution_count": null,
   "id": "11",
   "metadata": {},
   "outputs": [],
   "source": [
    "# !pip install requests"
   ]
  },
  {
   "cell_type": "markdown",
   "id": "12",
   "metadata": {},
   "source": [
    "Import the required libraries and read the GeoJSON data from the URL."
   ]
  },
  {
   "cell_type": "code",
   "execution_count": 7,
   "id": "13",
   "metadata": {},
   "outputs": [],
   "source": [
    "import requests"
   ]
  },
  {
   "cell_type": "markdown",
   "id": "14",
   "metadata": {},
   "source": [
    "In this case, we will read the GeoJSON data for Philippine regions hosted at https://github.com/faeldon/philippines-json-maps, and process it to extract the names and land area of the regions."
   ]
  },
  {
   "cell_type": "code",
   "execution_count": 10,
   "id": "15",
   "metadata": {},
   "outputs": [],
   "source": [
    "url = (\n",
    "    \"https://raw.githubusercontent.com/faeldon/philippines-json-maps/refs/heads/master/2023/geojson/country/lowres/country.0.001.json\"\n",
    ")"
   ]
  },
  {
   "cell_type": "markdown",
   "id": "16",
   "metadata": {},
   "source": [
    "Let's define a function to read the GeoJSON data from the URL and extract the city names and coordinates. We'll also handle any exceptions that may occur during the process."
   ]
  },
  {
   "cell_type": "code",
   "execution_count": 11,
   "id": "17",
   "metadata": {},
   "outputs": [],
   "source": [
    "def fetch_geojson(url):\n",
    "    try:\n",
    "        response = requests.get(url)\n",
    "        response.raise_for_status()  # Raises an exception for HTTP errors\n",
    "        geojson_data = response.json()  # Parse the JSON response\n",
    "        return geojson_data\n",
    "    except requests.exceptions.HTTPError as http_err:\n",
    "        print(f\"HTTP error occurred: {http_err}\")\n",
    "    except requests.exceptions.ConnectionError as conn_err:\n",
    "        print(f\"Error connecting to the server: {conn_err}\")\n",
    "    except Exception as err:\n",
    "        print(f\"An error occurred: {err}\")\n",
    "    return None\n",
    "\n",
    "\n",
    "# Fetch and print a summary of the data\n",
    "geojson_data = fetch_geojson(url)"
   ]
  },
  {
   "cell_type": "markdown",
   "id": "18",
   "metadata": {},
   "source": [
    "Uncomment and run the following code to display the data read from the URL."
   ]
  },
  {
   "cell_type": "code",
   "execution_count": 13,
   "id": "19",
   "metadata": {},
   "outputs": [],
   "source": [
    "# geojson_data"
   ]
  },
  {
   "cell_type": "markdown",
   "id": "20",
   "metadata": {},
   "source": [
    "The output above is lengthy, so we'll only display the first few regions. You can modify the code to display more cities if needed."
   ]
  },
  {
   "cell_type": "code",
   "execution_count": 23,
   "id": "21",
   "metadata": {},
   "outputs": [
    {
     "name": "stdout",
     "output_type": "stream",
     "text": [
      "Number of regions: 17\n",
      "Name: Region I (Ilocos Region), Area: 12319 km^2\n",
      "Name: Region II (Cagayan Valley), Area: 26379 km^2\n",
      "Name: Region III (Central Luzon), Area: 21317 km^2\n",
      "Name: Region IV-A (CALABARZON), Area: 15844 km^2\n",
      "Name: Region V (Bicol Region), Area: 17326 km^2\n"
     ]
    }
   ],
   "source": [
    "if geojson_data:\n",
    "    features = geojson_data.get(\"features\", [])\n",
    "    print(f\"Number of regions: {len(features)}\")\n",
    "\n",
    "    # Extract region names and area\n",
    "    for feature in features[:5]:  # Display first 5 cities\n",
    "        region_name = feature[\"properties\"].get(\"adm1_en\")\n",
    "        area_km2 = feature[\"properties\"].get(\"area_km2\")\n",
    "        print(f\"Name: {region_name}, Area: {area_km2} km^2\")"
   ]
  },
  {
   "cell_type": "markdown",
   "id": "22",
   "metadata": {},
   "source": [
    "## Exercises\n",
    "\n",
    "1. Create a function that reads a file containing a list of city names and their coordinates. The function should handle exceptions if the file is missing or if a line in the file is not properly formatted.\n",
    "2. Write a function that writes a list of coordinates to a file. Include exception handling to ensure that the file is properly closed even if an error occurs during writing.\n",
    "3. Create a robust geospatial data processing function that reads data from a file, processes it, and writes the results to another file. Ensure that all potential errors are handled appropriately."
   ]
  }
 ],
 "metadata": {
  "kernelspec": {
   "display_name": "Python 3 (ipykernel)",
   "language": "python",
   "name": "python3"
  },
  "language_info": {
   "codemirror_mode": {
    "name": "ipython",
    "version": 3
   },
   "file_extension": ".py",
   "mimetype": "text/x-python",
   "name": "python",
   "nbconvert_exporter": "python",
   "pygments_lexer": "ipython3",
   "version": "3.11.10"
  }
 },
 "nbformat": 4,
 "nbformat_minor": 5
}
